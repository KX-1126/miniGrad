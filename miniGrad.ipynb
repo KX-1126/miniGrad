{
 "cells": [
  {
   "cell_type": "code",
   "execution_count": 2,
   "id": "e85d0355",
   "metadata": {},
   "outputs": [
    {
     "name": "stdout",
     "output_type": "stream",
     "text": [
      "hello miniGrad\n"
     ]
    }
   ],
   "source": [
    "print(\"hello miniGrad\")"
   ]
  },
  {
   "cell_type": "code",
   "execution_count": 3,
   "id": "835588c6",
   "metadata": {},
   "outputs": [],
   "source": [
    "class Tensor:\n",
    "    def __init__(self, data, _children=()):\n",
    "        self.data = data\n",
    "        self.grad = 0\n",
    "        self._prev = set(_children) # 记录前置子节点\n",
    "        self._backward = lambda: None #每一个节点需要知道计算自己的反向方法\n",
    "    \n",
    "    def __add__(self, other):\n",
    "        other = other if isinstance(other, Tensor) else Tensor(other)\n",
    "        o = Tensor(self.data + other.data, (self,other))\n",
    "        \n",
    "        # 加法的局部梯度为 1\n",
    "        def backward():\n",
    "            self.grad +=  1 * o.grad # 使用 += 因为节点可能有多个父节点，不同父节点反向传递的梯度需要相加\n",
    "            other.grad += 1 * o.grad\n",
    "        o._backward = backward\n",
    "\n",
    "        return o\n",
    "\n",
    "    def __mul__(self, other):\n",
    "        other = other if isinstance(other, Tensor) else Tensor(other) \n",
    "        o = Tensor(self.data * other.data, (self,other))\n",
    "\n",
    "        def backward():\n",
    "            self.grad += other.data * o.grad\n",
    "            other.grad += self.data * o.grad\n",
    "        o._backward = backward\n",
    "\n",
    "        return o\n",
    "\n",
    "    def __pow__(self, other):\n",
    "        assert isinstance(other, (int, float))\n",
    "        o = Tensor(self.data ** other, (self,))\n",
    "        o.prev = [self]\n",
    "\n",
    "        def backward():\n",
    "            self.grad += other * (self.data **(other - 1))\n",
    "        o._backward = backward\n",
    "        \n",
    "        return o    \n",
    "\n",
    "    # -- 下方的所有运算都通过上方的基础运算实现 -- #\n",
    "\n",
    "    def __neg__(self):\n",
    "        return self * -1\n",
    "    \n",
    "    def __sub__(self, other):\n",
    "        return self.data + (- other)\n",
    "    \n",
    "    def __radd__(self, other):\n",
    "        return other + self.data\n",
    "    \n",
    "    def __rmul__(self, other):\n",
    "        return other * self.data\n",
    "    \n",
    "    def __rsub__(self, other):\n",
    "        return other + (-self.data)\n",
    "    \n",
    "    # -- 除法运算 通过乘以倒数实现 -- #\n",
    "    def __truediv__(self, other):\n",
    "        return self * (other**-1)\n",
    "    \n",
    "    def __rtruediv__(self, other):\n",
    "        return other * (self**-1)\n",
    "\n",
    "    def __repr__(self):\n",
    "        return f\"Tensor(data={self.data}, grad={self.grad})\"\n",
    "    \n",
    "    # 反向传播 \n",
    "    def backward(self):\n",
    "        # 获取拓扑顺序\n",
    "        topo = []\n",
    "        visited = set()\n",
    "        def build_topo(v):\n",
    "            if v not in visited:\n",
    "                visited.add(v)\n",
    "                for child in v._prev:\n",
    "                    build_topo(child)\n",
    "                topo.append(v)\n",
    "        build_topo(self)\n",
    "\n",
    "        # 反向拓扑计算\n",
    "        for tensor in reversed(topo):\n",
    "            tensor._backward()\n",
    "    "
   ]
  },
  {
   "cell_type": "code",
   "execution_count": 4,
   "id": "a82c720f",
   "metadata": {},
   "outputs": [
    {
     "name": "stdout",
     "output_type": "stream",
     "text": [
      "Tensor(data=-1.0, grad=0)\n"
     ]
    }
   ],
   "source": [
    "x1 = Tensor(2.0)\n",
    "w1 = Tensor(3.0)\n",
    "x2 = Tensor(4.0)\n",
    "w2 = Tensor(-2.0)\n",
    "b = Tensor(1.0)\n",
    "\n",
    "o = x1 * w1 + x2 * w2 + b\n",
    "print(o)"
   ]
  },
  {
   "cell_type": "code",
   "execution_count": 5,
   "id": "9d745147",
   "metadata": {},
   "outputs": [
    {
     "name": "stdout",
     "output_type": "stream",
     "text": [
      "x1 grad = 3.0\n",
      "w1 grad = 2.0\n",
      "x2 grad = -2.0\n",
      "w2 grad = 4.0\n",
      "b grad = 1.0\n"
     ]
    }
   ],
   "source": [
    "o.grad = 1.0\n",
    "o.backward()\n",
    "\n",
    "print(f\"x1 grad = {x1.grad}\")\n",
    "print(f\"w1 grad = {w1.grad}\")\n",
    "print(f\"x2 grad = {x2.grad}\")\n",
    "print(f\"w2 grad = {w2.grad}\")\n",
    "print(f\"b grad = {b.grad}\")"
   ]
  }
 ],
 "metadata": {
  "kernelspec": {
   "display_name": "Python 3",
   "language": "python",
   "name": "python3"
  },
  "language_info": {
   "codemirror_mode": {
    "name": "ipython",
    "version": 3
   },
   "file_extension": ".py",
   "mimetype": "text/x-python",
   "name": "python",
   "nbconvert_exporter": "python",
   "pygments_lexer": "ipython3",
   "version": "3.9.6"
  }
 },
 "nbformat": 4,
 "nbformat_minor": 5
}
